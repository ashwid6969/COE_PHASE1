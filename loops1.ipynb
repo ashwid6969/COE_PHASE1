{
 "cells": [
  {
   "cell_type": "code",
   "execution_count": 1,
   "id": "ea1140b2-894f-4927-94da-2f9fec323bfd",
   "metadata": {},
   "outputs": [
    {
     "data": {
      "text/plain": [
       "20"
      ]
     },
     "execution_count": 1,
     "metadata": {},
     "output_type": "execute_result"
    }
   ],
   "source": [
    "2*10"
   ]
  },
  {
   "cell_type": "code",
   "execution_count": 2,
   "id": "3f81d7be-997f-4df9-a50a-e05dec151bed",
   "metadata": {},
   "outputs": [
    {
     "data": {
      "text/plain": [
       "12"
      ]
     },
     "execution_count": 2,
     "metadata": {},
     "output_type": "execute_result"
    }
   ],
   "source": [
    "3+4+5"
   ]
  },
  {
   "cell_type": "code",
   "execution_count": 3,
   "id": "fb3db9ad-5941-43fd-bc87-ac7b4c2ddb24",
   "metadata": {},
   "outputs": [
    {
     "data": {
      "text/plain": [
       "8"
      ]
     },
     "execution_count": 3,
     "metadata": {},
     "output_type": "execute_result"
    }
   ],
   "source": [
    "2**3"
   ]
  },
  {
   "cell_type": "code",
   "execution_count": 4,
   "id": "f4fb5ff7-763b-4303-a38a-919d88b8ef16",
   "metadata": {},
   "outputs": [
    {
     "data": {
      "text/plain": [
       "int"
      ]
     },
     "execution_count": 4,
     "metadata": {},
     "output_type": "execute_result"
    }
   ],
   "source": [
    "type(123)"
   ]
  },
  {
   "cell_type": "code",
   "execution_count": 5,
   "id": "6f6642a2-bd58-4373-9014-3e6393ee0a11",
   "metadata": {},
   "outputs": [
    {
     "data": {
      "text/plain": [
       "float"
      ]
     },
     "execution_count": 5,
     "metadata": {},
     "output_type": "execute_result"
    }
   ],
   "source": [
    "type(12.44)"
   ]
  },
  {
   "cell_type": "code",
   "execution_count": 6,
   "id": "14710ce6-1756-4470-bd86-712366b98c21",
   "metadata": {},
   "outputs": [
    {
     "data": {
      "text/plain": [
       "str"
      ]
     },
     "execution_count": 6,
     "metadata": {},
     "output_type": "execute_result"
    }
   ],
   "source": [
    "type('ashwid')"
   ]
  },
  {
   "cell_type": "code",
   "execution_count": 7,
   "id": "0244fb42-9a53-4775-abb0-f3ef61b6e669",
   "metadata": {},
   "outputs": [
    {
     "name": "stdout",
     "output_type": "stream",
     "text": [
      "hi hello\n"
     ]
    }
   ],
   "source": [
    "print(\"hi hello\")"
   ]
  },
  {
   "cell_type": "code",
   "execution_count": 8,
   "id": "7a3e8e00-009d-4123-87aa-42d7a1ce5dd4",
   "metadata": {},
   "outputs": [
    {
     "name": "stdout",
     "output_type": "stream",
     "text": [
      "Value of A is 10\n"
     ]
    }
   ],
   "source": [
    "a=10\n",
    "print(\"Value of A is\",a)"
   ]
  },
  {
   "cell_type": "code",
   "execution_count": 9,
   "id": "94b51483-8e6f-4f9a-a8ed-93406ac46196",
   "metadata": {},
   "outputs": [
    {
     "name": "stdin",
     "output_type": "stream",
     "text": [
      "The Given Employee Number is: 101\n",
      "The Given Employee Name is: 11\n",
      "The Given Employee Number is: 1\n"
     ]
    }
   ],
   "source": [
    "a=int(input(\"The Given Employee Number is:\"))\n",
    "b=input(\"The Given Employee Name is:\")\n",
    "c=input(\"The Given Employee Number is:\")"
   ]
  },
  {
   "cell_type": "code",
   "execution_count": 10,
   "id": "e28529f1-6a8d-4b2d-9e4f-57120b48e70d",
   "metadata": {},
   "outputs": [
    {
     "name": "stdout",
     "output_type": "stream",
     "text": [
      "The Given Employee Number is: 101\n",
      "The Given Employee Name is: ashwid\n",
      "The Given Employee Number is: 49.87\n"
     ]
    }
   ],
   "source": [
    "eno=101\n",
    "ename=\"ashwid\"\n",
    "esal=49.87\n",
    "print(\"The Given Employee Number is:\",eno)\n",
    "print(\"The Given Employee Name is:\",ename)\n",
    "print(\"The Given Employee Number is:\",esal)\n"
   ]
  },
  {
   "cell_type": "code",
   "execution_count": 11,
   "id": "70d9c98f-10cb-4953-b6e2-95403ffd1b40",
   "metadata": {},
   "outputs": [],
   "source": [
    "# write a python program to enter radius of circle and find the area of the circle"
   ]
  },
  {
   "cell_type": "code",
   "execution_count": 12,
   "id": "38a0ef92-2734-433c-a6f2-7c017ea063a2",
   "metadata": {},
   "outputs": [
    {
     "name": "stdin",
     "output_type": "stream",
     "text": [
      "Enter Radius of the circle 12\n"
     ]
    },
    {
     "name": "stdout",
     "output_type": "stream",
     "text": [
      "Area of the circle is : 452.15999999999997\n"
     ]
    }
   ],
   "source": [
    "radius=int(input(\"Enter Radius of the circle\"))\n",
    "pi=3.14\n",
    "area=3.14*radius*radius\n",
    "print(\"Area of the circle is :\",area)"
   ]
  },
  {
   "cell_type": "code",
   "execution_count": 13,
   "id": "4121b077-f2d5-4b1a-98bf-bc6e4f396a8f",
   "metadata": {},
   "outputs": [
    {
     "name": "stdin",
     "output_type": "stream",
     "text": [
      "Enter length of rectangle 12\n",
      "Enter breadth of rectangle 32\n"
     ]
    },
    {
     "name": "stdout",
     "output_type": "stream",
     "text": [
      "area : 384\n",
      "perimeter : 88\n"
     ]
    }
   ],
   "source": [
    "#area and circumference of rectangle\n",
    "length=int(input(\"Enter length of rectangle\"))\n",
    "breadth=int(input(\"Enter breadth of rectangle\"))\n",
    "area=length*breadth\n",
    "perimeter=2*(length+breadth)\n",
    "print(\"area :\",area)\n",
    "print(\"perimeter :\",perimeter)"
   ]
  },
  {
   "cell_type": "code",
   "execution_count": 14,
   "id": "6c7bd751-a7a4-43bd-9741-0d541f06f432",
   "metadata": {},
   "outputs": [
    {
     "name": "stdin",
     "output_type": "stream",
     "text": [
      "Enter Student Number : 23\n",
      "Enter student name:  asd\n",
      "Enter M1 marks : 23\n",
      "Enter M2 marks : 32\n",
      "Enter COSM marks : 23\n"
     ]
    },
    {
     "name": "stdout",
     "output_type": "stream",
     "text": [
      "REPORT CARD\n",
      "Student No. : 23\n",
      "Student Name : asd\n",
      "M1 :  23\n",
      "M2 :  32\n",
      "COSM :  23\n",
      "Total Marks optained : 78\n",
      "Average Score : 26.0\n"
     ]
    }
   ],
   "source": [
    "no=int(input(\"Enter Student Number :\"))\n",
    "name=input(\"Enter student name: \")\n",
    "sub1=int(input(\"Enter M1 marks :\"))\n",
    "sub2=int(input(\"Enter M2 marks :\"))\n",
    "sub3=int(input(\"Enter COSM marks :\"))\n",
    "total=sub1+sub2+sub3\n",
    "average=total/3\n",
    "print(\"REPORT CARD\")\n",
    "print(\"Student No. :\",no)\n",
    "print(\"Student Name :\",name)\n",
    "print('M1 : ',sub1)\n",
    "print('M2 : ',sub2)\n",
    "print('COSM : ',sub3)\n",
    "print('Total Marks optained :',total)\n",
    "print('Average Score :',average)"
   ]
  },
  {
   "cell_type": "code",
   "execution_count": 15,
   "id": "d4e245dc-e0da-4ff1-b5fe-06f4dd7801c2",
   "metadata": {},
   "outputs": [
    {
     "name": "stdin",
     "output_type": "stream",
     "text": [
      " 32\n",
      " 44\n"
     ]
    },
    {
     "name": "stdout",
     "output_type": "stream",
     "text": [
      "44  is greater than 32\n"
     ]
    }
   ],
   "source": [
    "a=int(input())\n",
    "b=int(input())\n",
    "if a>b:\n",
    "    print(a,\"is greater than \",b)\n",
    "else:\n",
    "    print(b,\" is greater than\",a) "
   ]
  },
  {
   "cell_type": "code",
   "execution_count": 16,
   "id": "9f961946-6b62-4f60-8d99-99586c645175",
   "metadata": {},
   "outputs": [
    {
     "name": "stdin",
     "output_type": "stream",
     "text": [
      "enter no. : 23\n"
     ]
    },
    {
     "name": "stdout",
     "output_type": "stream",
     "text": [
      "23 is odd number\n"
     ]
    }
   ],
   "source": [
    "a=int(input(\"enter no. :\"))\n",
    "if a%2 ==0:\n",
    "    print(a,'is even number')\n",
    "else:\n",
    "    print(a,'is odd number')"
   ]
  },
  {
   "cell_type": "code",
   "execution_count": 17,
   "id": "81e128ae-e14b-40ec-a980-6a06ffc1a133",
   "metadata": {},
   "outputs": [
    {
     "name": "stdin",
     "output_type": "stream",
     "text": [
      "enter no. : 21\n",
      "enter no. : 23\n",
      "enter no. : 4\n"
     ]
    },
    {
     "name": "stdout",
     "output_type": "stream",
     "text": [
      "b is greatest number\n"
     ]
    }
   ],
   "source": [
    "#big value of three numbers\n",
    "a=int(input(\"enter no. :\"))\n",
    "b=int(input(\"enter no. :\"))\n",
    "c=int(input(\"enter no. :\"))\n",
    "if a>b and a>c:\n",
    "    print(\"a is greatest number\")\n",
    "elif b>c:\n",
    "    print(\"b is greatest number\")\n",
    "else:\n",
    "    print(\"c is greatest number\")"
   ]
  },
  {
   "cell_type": "code",
   "execution_count": 18,
   "id": "d36a97d1-230f-4574-b682-4da6f10acfdc",
   "metadata": {},
   "outputs": [],
   "source": [
    "#2on nested if\n",
    "#3 on elif\n",
    "#3 while loop"
   ]
  },
  {
   "cell_type": "code",
   "execution_count": 48,
   "id": "840527ab-5145-4a24-9a24-72c675137e2e",
   "metadata": {},
   "outputs": [
    {
     "name": "stdin",
     "output_type": "stream",
     "text": [
      "enter a number 100\n"
     ]
    },
    {
     "name": "stdout",
     "output_type": "stream",
     "text": [
      "2\n",
      "4\n",
      "6\n",
      "8\n",
      "10\n",
      "12\n",
      "14\n",
      "16\n",
      "18\n",
      "20\n",
      "22\n",
      "24\n",
      "26\n",
      "28\n",
      "30\n",
      "32\n",
      "34\n",
      "36\n",
      "38\n",
      "40\n",
      "42\n",
      "44\n",
      "46\n",
      "48\n",
      "50\n",
      "52\n",
      "54\n",
      "56\n",
      "58\n",
      "60\n",
      "62\n",
      "64\n",
      "66\n",
      "68\n",
      "70\n",
      "72\n",
      "74\n",
      "76\n",
      "78\n",
      "80\n",
      "82\n",
      "84\n",
      "86\n",
      "88\n",
      "90\n",
      "92\n",
      "94\n",
      "96\n",
      "98\n",
      "100\n"
     ]
    }
   ],
   "source": [
    "n=int(input('enter a number'))\n",
    "\n",
    "i=1\n",
    "while i<=n:\n",
    "    if i%2==0:\n",
    "        print(i)\n",
    "    i=i+1\n",
    "    "
   ]
  },
  {
   "cell_type": "code",
   "execution_count": 20,
   "id": "e0141f17-66aa-43d7-bfc1-32c027e6cd6a",
   "metadata": {},
   "outputs": [
    {
     "name": "stdin",
     "output_type": "stream",
     "text": [
      "Enter number 5\n"
     ]
    },
    {
     "name": "stdout",
     "output_type": "stream",
     "text": [
      "5 * 1 = 5\n",
      "5 * 2 = 10\n",
      "5 * 3 = 15\n",
      "5 * 4 = 20\n",
      "5 * 5 = 25\n",
      "5 * 6 = 30\n",
      "5 * 7 = 35\n",
      "5 * 8 = 40\n",
      "5 * 9 = 45\n",
      "5 * 10 = 50\n"
     ]
    }
   ],
   "source": [
    "n=int(input('Enter number'))\n",
    "for i in range(1,11):\n",
    "    print(n,'*',i,'=',i*n)\n",
    "    i=i+1"
   ]
  },
  {
   "cell_type": "code",
   "execution_count": 21,
   "id": "d402e526-85a9-4f6f-a4a4-4457e2922f7a",
   "metadata": {},
   "outputs": [
    {
     "name": "stdin",
     "output_type": "stream",
     "text": [
      "Enter the value of n  5\n"
     ]
    },
    {
     "name": "stdout",
     "output_type": "stream",
     "text": [
      "* * * * * \n",
      "* * * * * \n",
      "* * * * * \n",
      "* * * * * \n",
      "* * * * * \n"
     ]
    }
   ],
   "source": [
    "n=int(input('Enter the value of n '))\n",
    "for i in range(n):\n",
    "    j=1\n",
    "    while j<=n:\n",
    "        print(\"*\",end=\" \")\n",
    "        j=j+1\n",
    "    print()"
   ]
  },
  {
   "cell_type": "code",
   "execution_count": 22,
   "id": "f384db1b-1348-424f-930c-9457bbe82644",
   "metadata": {},
   "outputs": [
    {
     "name": "stdin",
     "output_type": "stream",
     "text": [
      "Enter the value of n  5\n"
     ]
    },
    {
     "name": "stdout",
     "output_type": "stream",
     "text": [
      "* \n",
      "* * \n",
      "* * * \n",
      "* * * * \n",
      "* * * * * \n"
     ]
    }
   ],
   "source": [
    "n=int(input('Enter the value of n '))\n",
    "for i in range(n):\n",
    "    j=0\n",
    "    while j<=i:\n",
    "        print(\"*\",end=\" \")\n",
    "        j=j+1\n",
    "    print()"
   ]
  },
  {
   "cell_type": "code",
   "execution_count": 50,
   "id": "10b63161-59c5-4bab-b8cd-7f9b7065f595",
   "metadata": {},
   "outputs": [
    {
     "name": "stdin",
     "output_type": "stream",
     "text": [
      "Enter the value of n  5\n"
     ]
    },
    {
     "name": "stdout",
     "output_type": "stream",
     "text": [
      "* * * * * \n",
      "* * * * \n",
      "* * * \n",
      "* * \n",
      "* \n"
     ]
    }
   ],
   "source": [
    "n=int(input('Enter the value of n '))\n",
    "for i in range(n):\n",
    "    j=1\n",
    "    while j<=n-i:\n",
    "        print(\"*\",end=\" \")\n",
    "        j=j+1\n",
    "    print()"
   ]
  },
  {
   "cell_type": "code",
   "execution_count": null,
   "id": "535e276c-0a38-430b-b88e-202ae5c1549d",
   "metadata": {},
   "outputs": [],
   "source": []
  }
 ],
 "metadata": {
  "kernelspec": {
   "display_name": "Python 3 (ipykernel)",
   "language": "python",
   "name": "python3"
  },
  "language_info": {
   "codemirror_mode": {
    "name": "ipython",
    "version": 3
   },
   "file_extension": ".py",
   "mimetype": "text/x-python",
   "name": "python",
   "nbconvert_exporter": "python",
   "pygments_lexer": "ipython3",
   "version": "3.12.4"
  }
 },
 "nbformat": 4,
 "nbformat_minor": 5
}
