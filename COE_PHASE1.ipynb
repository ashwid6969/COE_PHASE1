{
 "cells": [
  {
   "cell_type": "code",
   "execution_count": 54,
   "id": "0582dbd0-93a3-4800-82a9-afd4874f7937",
   "metadata": {},
   "outputs": [
    {
     "name": "stdin",
     "output_type": "stream",
     "text": [
      "enter the internal marks 50\n",
      "enter external marks 20\n",
      "enter project marks 80\n"
     ]
    },
    {
     "name": "stdout",
     "output_type": "stream",
     "text": [
      "65.0\n",
      "you got failed in external\n",
      "C grade\n"
     ]
    }
   ],
   "source": [
    "\n",
    "internal = int(input(\"enter the internal marks\"))\n",
    "external = int (input(\"enter external marks\"))\n",
    "project = int (input(\"enter project marks\"))\n",
    "sum=project/100*70+external/100*20+internal/100*10\n",
    "print(sum)\n",
    "\n",
    "if(internal<50):\n",
    "    {\n",
    "        print(\"you got failed in internal\")\n",
    "    }\n",
    "if(external<50):\n",
    "    {\n",
    "        print(\"you got failed in external\")\n",
    "    } \n",
    "if(project<50):\n",
    "    {\n",
    "        print(\"you got failed in project\")\n",
    "    }\n",
    "if sum>=90:\n",
    "    print(\"A grade\")\n",
    "elif sum>=70:\n",
    "    print(\"B grade\")\n",
    "elif sum>=50:\n",
    "    print(\"C grade\")\n",
    "else :\n",
    "    print(\"fail\")"
   ]
  },
  {
   "cell_type": "code",
   "execution_count": 74,
   "id": "fe9dce00-7009-4550-8a7c-951088cdee99",
   "metadata": {},
   "outputs": [
    {
     "name": "stdout",
     "output_type": "stream",
     "text": [
      "2400.0\n"
     ]
    }
   ],
   "source": [
    "prev=5400\n",
    "pres=6500\n",
    "units=pres-prev\n",
    "total1=0.5*50\n",
    "units=units-50\n",
    "total2=0.75*100\n",
    "units=units-100\n",
    "total3=1.75*100\n",
    "units=units-100\n",
    "total4=2.50*units\n",
    "total=total1+total2+total3+total4\n",
    "print(total)"
   ]
  },
  {
   "cell_type": "code",
   "execution_count": 76,
   "id": "090b25a9-d702-413e-98ea-badf46bd4e57",
   "metadata": {},
   "outputs": [
    {
     "name": "stdin",
     "output_type": "stream",
     "text": [
      "enter the previous bill units 5400\n",
      "enter the present bill units 6500\n"
     ]
    },
    {
     "name": "stdout",
     "output_type": "stream",
     "text": [
      "2773.0\n"
     ]
    }
   ],
   "source": [
    "prev=int(input(\"enter the previous bill units\"))\n",
    "pres=int(input(\"enter the present bill units\"))\n",
    "units=pres-prev\n",
    "bill=0\n",
    "if units<=50:\n",
    "    bill=units*0.5\n",
    "elif units<=150:\n",
    "    bill=50*0.5+(units-50)*0.75\n",
    "elif units<=250:\n",
    "    bill=50*0.50+(100*0.75)+(units-150)*1.25\n",
    "else:\n",
    "    bill=50*0.50+(100*0.75)+(100*1.25)+(units-250)*2.50\n",
    "\n",
    "bill=bill+(bill*18/100)\n",
    "print(bill)"
   ]
  },
  {
   "cell_type": "code",
   "execution_count": null,
   "id": "3ec4aec0-8a24-44d3-9d92-0876d2a37df9",
   "metadata": {},
   "outputs": [],
   "source": [
    "1. Food – Smart Restaurant Billing with Meal Plans\n",
    "\n",
    "Scenario:\n",
    "\n",
    "A restaurant offers multiple meal plans (Veg, Non-Veg, Combo) and discounts on festivals.\n",
    " \n",
    "Requirements:\n",
    " \n",
    "Take user input: meal type, quantity, is today a festival (yes/no)\n",
    " \n",
    "Pricing:\n",
    " \n",
    "Veg: ₹150\n",
    " \n",
    "Non-Veg: ₹200\n",
    " \n",
    "Combo: ₹300\n",
    " \n",
    "Festival day → 10% discount\n",
    " \n",
    "If total bill > ₹1000 → add free dessert\n",
    " \n",
    "Add 5% GST on total\n",
    "\n",
    " "
   ]
  },
  {
   "cell_type": "code",
   "execution_count": 108,
   "id": "42a862ec-76d9-4ae4-b5cb-50eaab26f889",
   "metadata": {},
   "outputs": [
    {
     "name": "stdout",
     "output_type": "stream",
     "text": [
      "MENU : \n",
      "1.veg: rs.150  \n",
      "2.non-veg: rs.200 \n",
      "3.combo: rs.300\n"
     ]
    },
    {
     "name": "stdin",
     "output_type": "stream",
     "text": [
      "enter the type of meal:  2\n",
      "enter quantity required:  6\n"
     ]
    },
    {
     "name": "stdout",
     "output_type": "stream",
     "text": [
      "1200\n",
      "free dessert\n"
     ]
    },
    {
     "name": "stdin",
     "output_type": "stream",
     "text": [
      "festival-yes/no yes\n"
     ]
    },
    {
     "name": "stdout",
     "output_type": "stream",
     "text": [
      "congratulations got 10% discount on your bill\n",
      "1134.0\n"
     ]
    }
   ],
   "source": [
    "print(\"MENU : \\n1.veg: rs.150  \\n2.non-veg: rs.200 \\n3.combo: rs.300\")\n",
    "meal_type=int(input(\"enter the type of meal: \"))\n",
    "\n",
    "quantity=int(input(\"enter quantity required: \"))\n",
    "\n",
    "if meal_type==1:\n",
    "    price=150*quantity\n",
    "elif meal_type==2:\n",
    "    price=200*quantity\n",
    "elif meal_type==3:\n",
    "    price=300*quantity\n",
    "bill=price\n",
    "print(bill)\n",
    "if bill>1000:\n",
    "    print(\"free dessert\")\n",
    "festival=(input(\"festival-yes/no\"))\n",
    "if festival==\"yes\":\n",
    "    print(\"congratulations got 10% discount on your bill\")\n",
    "    bill=bill-(bill*10)/100\n",
    "else:\n",
    "    print(bill)\n",
    "bill=bill+(bill*5)/100\n",
    "print(bill)\n"
   ]
  },
  {
   "cell_type": "code",
   "execution_count": null,
   "id": "6d8b3754-574a-4928-8aeb-3fe6d28c79aa",
   "metadata": {},
   "outputs": [],
   "source": [
    "2. Education – Scholarship Eligibility Evaluator\n",
    "\n",
    "Scenario:\n",
    "\n",
    "University grants scholarships based on students’ marks and family income.\n",
    " \n",
    "Requirements:\n",
    " \n",
    "Input: student name, % in 10th, 12th, UG, family income\n",
    " \n",
    "Rules:\n",
    " \n",
    "85% in all and income < 3 LPA → Full Scholarship\n",
    " \n",
    "70% in UG and income < 5 LPA → Partial Scholarship\n",
    " \n",
    "Else → Not eligible\n",
    "\n",
    " "
   ]
  },
  {
   "cell_type": "code",
   "execution_count": 114,
   "id": "8f3ce16d-e37b-49f9-a9f1-58cdc5a639a7",
   "metadata": {},
   "outputs": [
    {
     "name": "stdin",
     "output_type": "stream",
     "text": [
      "Name of the Student :  asdf\n",
      "Percentage of 10th class :  85\n",
      "Percentage of 12th class :  85\n",
      "Percentage of UG :   85\n",
      "Family Income in LPA:  6\n"
     ]
    },
    {
     "name": "stdout",
     "output_type": "stream",
     "text": [
      "Not eligible\n"
     ]
    }
   ],
   "source": [
    "name=input(\"Name of the Student : \")\n",
    "tenth=int(input(\"Percentage of 10th class : \"))\n",
    "twelve=int(input(\"Percentage of 12th class : \"))\n",
    "ug=int(input(\"Percentage of UG :  \"))\n",
    "income=int(input(\"Family Income in LPA: \"))\n",
    "if tenth>=85 and twelve>=85 and ug>=85 and income<=3:\n",
    "    print(\"Eligible for Full Scholarship\")\n",
    "elif ug>=70 and income<=5:\n",
    "    print(\"Eligible for Partial Scholarship\")\n",
    "else:\n",
    "    print(\"Not eligible\")\n"
   ]
  },
  {
   "cell_type": "code",
   "execution_count": null,
   "id": "84aebf4f-21eb-44aa-a720-21d18e0f4fca",
   "metadata": {},
   "outputs": [],
   "source": [
    "3. Government – Ration Card Eligibility Checker\n",
    "\n",
    "Scenario:\n",
    "\n",
    "The government checks if a family is eligible for subsidized ration based on income, family size, and location.\n",
    " \n",
    "Requirements:\n",
    " \n",
    "Input: number of family members, annual income, rural or urban\n",
    " \n",
    "Conditions:\n",
    " \n",
    "Rural + income < 2.5 LPA + >3 members → Eligible\n",
    " \n",
    "Urban + income < 2 LPA + >4 members → Eligible\n",
    " \n",
    "Else → Not eligible\n",
    " "
   ]
  },
  {
   "cell_type": "code",
   "execution_count": 140,
   "id": "435191ac-e141-4252-b76a-d55cc86a8402",
   "metadata": {},
   "outputs": [
    {
     "name": "stdin",
     "output_type": "stream",
     "text": [
      "number of family members 5\n",
      "enter annual income LPA 7\n",
      "enter either 1 (or) 2 \n",
      "1 for rural \n",
      "2 for urban 2\n"
     ]
    },
    {
     "name": "stdout",
     "output_type": "stream",
     "text": [
      "Not eligible\n"
     ]
    }
   ],
   "source": [
    "family=int(input(\"number of family members\"))\n",
    "income=float(input(\"enter annual income LPA\"))\n",
    "area=int(input(\"enter either 1 (or) 2 \\n1 for rural \\n2 for urban\"))\n",
    "\n",
    "if area==1 and income<=2.5 and family>=3:\n",
    "    print(\"Eligible for Ration Card\")\n",
    "elif area==2 and income<=2 and family>=4:\n",
    "    print(\"Eligible for Ration Card\")\n",
    "else:\n",
    "    print(\"Not eligible\")"
   ]
  },
  {
   "cell_type": "markdown",
   "id": "b4798b3f-7dc9-4c18-8745-c8af181f1416",
   "metadata": {},
   "source": []
  }
 ],
 "metadata": {
  "kernelspec": {
   "display_name": "Python 3 (ipykernel)",
   "language": "python",
   "name": "python3"
  },
  "language_info": {
   "codemirror_mode": {
    "name": "ipython",
    "version": 3
   },
   "file_extension": ".py",
   "mimetype": "text/x-python",
   "name": "python",
   "nbconvert_exporter": "python",
   "pygments_lexer": "ipython3",
   "version": "3.12.4"
  }
 },
 "nbformat": 4,
 "nbformat_minor": 5
}
