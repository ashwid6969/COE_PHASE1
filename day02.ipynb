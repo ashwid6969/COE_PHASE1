{
 "cells": [
  {
   "cell_type": "code",
   "execution_count": null,
   "id": "84119cfa-b42c-4599-9199-89a7b523f0aa",
   "metadata": {},
   "outputs": [],
   "source": [
    "# variable\n",
    "# data types\n",
    "# control statements (if,if else, elif, nested if), while, for\n",
    "# DS (string, tuple, list, dict)\n",
    "# functions\n",
    "# oops\n",
    "# DB\n",
    "# "
   ]
  },
  {
   "cell_type": "code",
   "execution_count": 4,
   "id": "64054228-420d-406a-b90c-a7dee138ba92",
   "metadata": {},
   "outputs": [
    {
     "name": "stdout",
     "output_type": "stream",
     "text": [
      "69.69\n",
      "69\n"
     ]
    }
   ],
   "source": [
    "#float to integer\n",
    "a=69.69\n",
    "b=int(a)\n",
    "print(a)\n",
    "print(b)"
   ]
  },
  {
   "cell_type": "code",
   "execution_count": 10,
   "id": "e8b8b511-b8b5-454c-8a16-88dab3d8a94b",
   "metadata": {},
   "outputs": [
    {
     "name": "stdout",
     "output_type": "stream",
     "text": [
      "123\n",
      "123\n"
     ]
    }
   ],
   "source": [
    "#string -> integer\n",
    "a='123'\n",
    "b=int(a)\n",
    "print(a)\n",
    "print(b)"
   ]
  },
  {
   "cell_type": "code",
   "execution_count": 12,
   "id": "7ca72360-def6-43d7-83f3-ced900164554",
   "metadata": {},
   "outputs": [
    {
     "name": "stdout",
     "output_type": "stream",
     "text": [
      "123\n",
      "123.0\n"
     ]
    }
   ],
   "source": [
    "#string -> float\n",
    "a='123'\n",
    "b=float(a)\n",
    "print(a)\n",
    "print(b)"
   ]
  },
  {
   "cell_type": "code",
   "execution_count": null,
   "id": "3d264f27-e15c-4bb3-8ee5-1db65854f59e",
   "metadata": {},
   "outputs": [],
   "source": []
  },
  {
   "cell_type": "code",
   "execution_count": 14,
   "id": "ffe82eb2-61ff-4dde-9133-1e4ad10cbd50",
   "metadata": {},
   "outputs": [
    {
     "name": "stdout",
     "output_type": "stream",
     "text": [
      "123\n",
      "12.3\n",
      "123\n",
      "12.3\n"
     ]
    }
   ],
   "source": [
    "#integer , float -> string\n",
    "a=123\n",
    "b=12.3\n",
    "c=str(a)\n",
    "d=str(b)\n",
    "print(a)\n",
    "print(b)\n",
    "print(c)\n",
    "print(d)"
   ]
  },
  {
   "cell_type": "code",
   "execution_count": 28,
   "id": "a0dc2695-3376-442c-ad88-3eb6f3c70993",
   "metadata": {},
   "outputs": [
    {
     "name": "stdin",
     "output_type": "stream",
     "text": [
      "Enter your Amount 1800\n"
     ]
    },
    {
     "name": "stdout",
     "output_type": "stream",
     "text": [
      "500 rupees notes are :  3\n",
      "200 rupees notes are :  1\n",
      "100 rupees notes are :  1\n"
     ]
    }
   ],
   "source": [
    "# ATM\n",
    "# accept the amount and print number of notes\n",
    "# 500, 200, 100\n",
    "amount=int(input('Enter your Amount'))\n",
    "five=0\n",
    "two=0\n",
    "one=0\n",
    "if amount%100==0:\n",
    "    if amount>=500:\n",
    "        five=amount//500\n",
    "        print('500 rupees notes are : ',five)\n",
    "        amount=amount-(five*500)\n",
    "    if amount>=200:\n",
    "        two=amount//200\n",
    "        print('200 rupees notes are : ',two)\n",
    "        amount=amount-(two*200)\n",
    "    if amount>=100:\n",
    "        one=amount//100\n",
    "        print('100 rupees notes are : ',one)\n",
    "    "
   ]
  },
  {
   "cell_type": "code",
   "execution_count": 48,
   "id": "eb2028a5-e250-4146-8e3b-55e285f1dd80",
   "metadata": {},
   "outputs": [
    {
     "name": "stdin",
     "output_type": "stream",
     "text": [
      "Enter Basic Salary 25000\n"
     ]
    },
    {
     "name": "stdout",
     "output_type": "stream",
     "text": [
      "Gross salary of an employee is :  65250.0\n"
     ]
    }
   ],
   "source": [
    "#task-1\n",
    "#accept basic salary and find gross salary.\n",
    "# gross salary = basic salary+ DA+ HRA\n",
    "'''if basic salary is less than 20000 then\n",
    "HRA is 76% and DA is 78% on basic salary\n",
    "if basic salary is between 20000 - 30000 then\n",
    "HRA is 79% and DA is 82% on basic salary\n",
    "if basic salary is greater than 30000 then\n",
    "HRA is 85% and DA is 89% on basic salary'''\n",
    "\n",
    "\n",
    "basic_salary=int(input(\"Enter Basic Salary\"))\n",
    "if basic_salary<=20000:\n",
    "    HRA=(basic_salary*76)/100\n",
    "    DR=(basic_salary*78)/100\n",
    "    gross_salary=basic_salary+HRA+DR\n",
    "    print('Gross salary of an employee is : ',gross_salary)\n",
    "elif basic_salary<30000:\n",
    "    HRA=(basic_salary*79)/100\n",
    "    DA=(basic_salary*82)/100\n",
    "    gross_salary=basic_salary+HRA+DA\n",
    "    print('Gross salary of an employee is : ',gross_salary)\n",
    "else:\n",
    "    HRA=(basic_salary*85)/100\n",
    "    DA=(basic_salary*89)/100\n",
    "    gross_salary=basic_salary+HRA+DA\n",
    "    print('Gross salary of an employee is : ',gross_salary)"
   ]
  },
  {
   "cell_type": "code",
   "execution_count": 50,
   "id": "71e3c9ac-9200-45cd-baad-9ebfa090b82d",
   "metadata": {},
   "outputs": [
    {
     "name": "stdin",
     "output_type": "stream",
     "text": [
      "Enter Basic Salary 25000\n",
      "enter HRA percentage 79\n",
      "enter DA percentage 82\n"
     ]
    },
    {
     "name": "stdout",
     "output_type": "stream",
     "text": [
      "Gross salary of an employee is :  65250.0\n"
     ]
    }
   ],
   "source": [
    "basic_salary=int(input(\"Enter Basic Salary\"))\n",
    "hra=int(input(\"enter HRA percentage\"))\n",
    "da=int(input(\"enter DA percentage\"))\n",
    "if basic_salary<=20000:\n",
    "    HRA=(basic_salary*hra)/100\n",
    "    DR=(basic_salary*da)/100\n",
    "    gross_salary=basic_salary+HRA+DR\n",
    "    print('Gross salary of an employee is : ',gross_salary)\n",
    "elif basic_salary<30000:\n",
    "    HRA=(basic_salary*hra)/100\n",
    "    DA=(basic_salary*da)/100\n",
    "    gross_salary=basic_salary+HRA+DA\n",
    "    print('Gross salary of an employee is : ',gross_salary)\n",
    "else:\n",
    "    HRA=(basic_salary*hra)/100\n",
    "    DA=(basic_salary*da)/100\n",
    "    gross_salary=basic_salary+HRA+DA\n",
    "    print('Gross salary of an employee is : ',gross_salary)"
   ]
  },
  {
   "cell_type": "code",
   "execution_count": 114,
   "id": "0a60168d-80a2-4d34-bd87-94de4325d288",
   "metadata": {},
   "outputs": [
    {
     "name": "stdin",
     "output_type": "stream",
     "text": [
      "Enter salary amount 1200000\n"
     ]
    },
    {
     "name": "stdout",
     "output_type": "stream",
     "text": [
      "70000.0\n"
     ]
    }
   ],
   "source": [
    "# Task-1 \n",
    "# accept employee salary and calculate TDS amount\n",
    "# if salary is less than or equal to 500000-----0% TDS\n",
    "'''if salary is between 500000 - 1000000 then\n",
    "               500000-700000 --------5%\n",
    "               700000-1000000--------10%\n",
    "   if salary is between 1000000 - 2000000 then\n",
    "               500000-700000---------5%\n",
    "               700000-1000000--------10%\n",
    "               1000000-1500000-------15%\n",
    "               1500000-2000000-------20%\n",
    "    if salary is more than 3000000 then\n",
    "                500000-700000--------5%\n",
    "                700000-1000000-------10%\n",
    "                1000000-1500000-------15%\n",
    "                1500000-2000000-------20%\n",
    "                more than 2000000----30%'''\n",
    "\n",
    "salary=int(input('Enter salary amount'))\n",
    "if salary<=500000:\n",
    "    print(\"No TDS on Salary\")\n",
    "if salary>500000 and salary<=1000000:\n",
    "    if salary<=700000:\n",
    "        remain1=salary-500000\n",
    "        tds1=remain1*5/100\n",
    "        print(tds1)\n",
    "    elif salary>=700000 and salary<=1000000:\n",
    "        tds2=200000*5/100\n",
    "        remain=salary-700000\n",
    "        tds3=remain*10/100\n",
    "        print(tds2+tds3)\n",
    "if salary>1000000 and salary<=2000000:\n",
    "    tds1=200000*5/100\n",
    "    tds2=300000*10/100\n",
    "    if salary<1500000:\n",
    "        remain4=salary-1000000\n",
    "        tds3=remain4*15/100\n",
    "        print(tds1+tds2+tds3)\n",
    "    elif salary>1500000:\n",
    "        tds4=500000*15/100\n",
    "        remain5=salary-1500000\n",
    "        tds5=remain5*20/100\n",
    "        print(tds5)\n",
    "        tdss=tds1+tds2+tds4+tds5\n",
    "        print(tdss)\n",
    "if salary>=3000000:\n",
    "    tds1=200000*5/100\n",
    "    tds2=300000*10/100\n",
    "    tds3=500000*15/100\n",
    "    tds4=500000*20/100\n",
    "    if salary>2000000:\n",
    "        remain6=salary-2000000\n",
    "        tds5=remain*30/100\n",
    "        print(tds1+tds2+tds3+tds4+tds5)"
   ]
  },
  {
   "cell_type": "code",
   "execution_count": null,
   "id": "b273452a-7338-48c1-9b5f-63f2d68c5316",
   "metadata": {},
   "outputs": [],
   "source": []
  }
 ],
 "metadata": {
  "kernelspec": {
   "display_name": "Python 3 (ipykernel)",
   "language": "python",
   "name": "python3"
  },
  "language_info": {
   "codemirror_mode": {
    "name": "ipython",
    "version": 3
   },
   "file_extension": ".py",
   "mimetype": "text/x-python",
   "name": "python",
   "nbconvert_exporter": "python",
   "pygments_lexer": "ipython3",
   "version": "3.12.4"
  }
 },
 "nbformat": 4,
 "nbformat_minor": 5
}
