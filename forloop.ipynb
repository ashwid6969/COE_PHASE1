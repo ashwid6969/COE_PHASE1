{
 "cells": [
  {
   "cell_type": "code",
   "execution_count": 30,
   "id": "8ab6df7a-b55d-4bb0-b828-570b67d9fdea",
   "metadata": {},
   "outputs": [
    {
     "name": "stdin",
     "output_type": "stream",
     "text": [
      "Enter the value of n  5\n"
     ]
    },
    {
     "name": "stdout",
     "output_type": "stream",
     "text": [
      "$ * * * * \n",
      "* $ * * * \n",
      "* * $ * * \n",
      "* * * $ * \n",
      "* * * * $ \n"
     ]
    }
   ],
   "source": [
    "n=int(input('Enter the value of n '))\n",
    "for i in range(n):\n",
    "    j=0\n",
    "    for j in range(n):\n",
    "        if j==i:\n",
    "            print(\"$\",end=\" \")\n",
    "        else:\n",
    "            print(\"*\",end=\" \")\n",
    "        j=j+1\n",
    "    print()"
   ]
  },
  {
   "cell_type": "code",
   "execution_count": 28,
   "id": "dafddfdf-c9c6-46d1-a167-6da2d37343ab",
   "metadata": {},
   "outputs": [
    {
     "name": "stdin",
     "output_type": "stream",
     "text": [
      "Enter the value of n  5\n"
     ]
    },
    {
     "name": "stdout",
     "output_type": "stream",
     "text": [
      "$ * * * $ \n",
      "* $ * $ * \n",
      "* * $ * * \n",
      "* $ * $ * \n",
      "$ * * * $ \n"
     ]
    }
   ],
   "source": [
    "n=int(input('Enter the value of n '))\n",
    "for i in range(n):\n",
    "    j=0\n",
    "    for j in range(n):\n",
    "        if j==i or j==n-i-1:\n",
    "            print(\"$\",end=\" \")\n",
    "        else:\n",
    "            print(\"*\",end=\" \")\n",
    "        j=j+1\n",
    "    print()"
   ]
  },
  {
   "cell_type": "code",
   "execution_count": 32,
   "id": "0c06ed86-4fb6-45e9-9fba-6c6d082f4ccd",
   "metadata": {},
   "outputs": [
    {
     "name": "stdin",
     "output_type": "stream",
     "text": [
      "Enter the value of n  5\n"
     ]
    },
    {
     "name": "stdout",
     "output_type": "stream",
     "text": [
      "1 2 3 4 5 \n",
      "1 2 3 4 5 \n",
      "1 2 3 4 5 \n",
      "1 2 3 4 5 \n",
      "1 2 3 4 5 \n"
     ]
    }
   ],
   "source": [
    "n=int(input('Enter the value of n '))\n",
    "for i in range(n):\n",
    "    j=1\n",
    "    while j<=n:\n",
    "        print(j,end=\" \")\n",
    "        j=j+1\n",
    "    print()"
   ]
  },
  {
   "cell_type": "code",
   "execution_count": 103,
   "id": "ffa9da5d-080f-4779-845f-af63fcf83afb",
   "metadata": {},
   "outputs": [
    {
     "name": "stdout",
     "output_type": "stream",
     "text": [
      "30\n",
      "90\n",
      "[20, 30, 40, 50, 60, 70]\n",
      "[50, 60, 70, 80, 90, 100]\n",
      "[10, 40, 50, 60, 70, 80, 90, 100]\n",
      "[10, 40, 50, 60, 70, 989, 80, 100]\n"
     ]
    }
   ],
   "source": [
    "mylist=[10,20,30,40,50,60,70,80,90,100]\n",
    "print(mylist[2])\n",
    "print(mylist[-2])\n",
    "print(mylist[1:7])\n",
    "print(mylist[4:])\n",
    "del mylist[1:3]\n",
    "print(mylist)\n",
    "mylist.insert(5,989)\n",
    "mylist.remove(90)\n",
    "print(mylist)"
   ]
  },
  {
   "cell_type": "code",
   "execution_count": 62,
   "id": "f84f0251-b4a9-4777-9d32-e7960a2fcc2f",
   "metadata": {},
   "outputs": [
    {
     "name": "stdin",
     "output_type": "stream",
     "text": [
      "Enter no of elements 5\n",
      "Enter values 1\n",
      "Enter values 4\n",
      "Enter values 5\n",
      "Enter values 7\n",
      "Enter values 6\n"
     ]
    },
    {
     "name": "stdout",
     "output_type": "stream",
     "text": [
      "[1, 4, 5, 7, 6]\n"
     ]
    }
   ],
   "source": [
    "n=int(input('Enter no of elements'))\n",
    "a=[]\n",
    "for i in range(n):\n",
    "    a.append(int(input(\"Enter values\")))\n",
    "    \n",
    "print(a)\n"
   ]
  },
  {
   "cell_type": "markdown",
   "id": "d971edeb-1b13-4fc7-a575-5a7cb50513bd",
   "metadata": {},
   "source": [
    "scores=[]\n",
    "n=int(input('Enter no of elements'))\n"
   ]
  },
  {
   "cell_type": "code",
   "execution_count": 161,
   "id": "55b6e22a-9528-4096-a969-579684518e51",
   "metadata": {},
   "outputs": [
    {
     "name": "stdin",
     "output_type": "stream",
     "text": [
      " 58 85 47 66 96 69 87 43 57 81\n"
     ]
    },
    {
     "name": "stdout",
     "output_type": "stream",
     "text": [
      "inserting 100 at min scores\n",
      "[58, 85, 47, 66, 96, 69, 87, 100, 43, 57, 81]\n",
      "remove max score\n",
      "[58, 85, 47, 66, 69, 87, 100, 43, 57, 81]\n",
      "Adding two scores\n",
      "[58, 85, 47, 66, 87, 100, 43, 57, 81, 85, 75, 95, 65, 55]\n",
      "the no scores more than 80 is : 6\n",
      "After decending order \n",
      "[100, 95, 87, 85, 85, 81, 75, 66, 65, 58, 57, 55, 47, 43]\n",
      "After ascending order \n",
      "[43, 47, 55, 57, 58, 65, 66, 75, 81, 85, 85, 87, 95, 100]\n",
      "Final scores :  [43, 47, 55, 57, 58, 65, 66, 75, 81, 85, 85, 87, 95, 100]\n"
     ]
    }
   ],
   "source": [
    "\n",
    "scores=list(map(int,input().split(\" \")))\n",
    "minn=min(scores)\n",
    "maxx=max(scores)\n",
    "scores.insert(scores.index(minn),100)\n",
    "print(\"inserting 100 at min scores\")\n",
    "print(scores)\n",
    "scores.remove(maxx)\n",
    "print('remove max score')\n",
    "print(scores)\n",
    "popped_score=scores.pop(4)\n",
    "list2=[85,75,95,65,55]\n",
    "scores.extend(list2)\n",
    "print('Adding two scores')\n",
    "print(scores)\n",
    "count=0\n",
    "for i in scores:\n",
    "    if i>80:\n",
    "        count=count+1\n",
    "print(\"the no scores more than 80 is :\",count)\n",
    "scores.sort(reverse=True)\n",
    "print(\"After decending order \")\n",
    "print(scores)\n",
    "scores.reverse()\n",
    "print(\"After ascending order \")\n",
    "print(scores)\n",
    "print(\"Final scores : \",scores)"
   ]
  },
  {
   "cell_type": "code",
   "execution_count": 171,
   "id": "6e2d0704-bd1d-48f6-bb26-a8567184895b",
   "metadata": {},
   "outputs": [
    {
     "name": "stdout",
     "output_type": "stream",
     "text": [
      "22\n",
      "w\n",
      "a\n",
      "['a', 'b', 'c', 'c', 'd', 'e', 'e', 'g', 'g', 'i', 'k', 'l', 'm', 'm', 'n', 'n', 'o', 'o', 'o', 'o', 'r', 'w']\n"
     ]
    }
   ],
   "source": [
    "a='welcomebackgoodmorning'\n",
    "count=0\n",
    "for i in a:\n",
    "    if i:\n",
    "        count=count+1\n",
    "print(count)\n",
    "print(max(a))\n",
    "print(min(a))\n",
    "print(sorted(a))"
   ]
  },
  {
   "cell_type": "code",
   "execution_count": null,
   "id": "057a34e0-249e-4d49-8e15-61eb3136b255",
   "metadata": {},
   "outputs": [],
   "source": []
  }
 ],
 "metadata": {
  "kernelspec": {
   "display_name": "Python 3 (ipykernel)",
   "language": "python",
   "name": "python3"
  },
  "language_info": {
   "codemirror_mode": {
    "name": "ipython",
    "version": 3
   },
   "file_extension": ".py",
   "mimetype": "text/x-python",
   "name": "python",
   "nbconvert_exporter": "python",
   "pygments_lexer": "ipython3",
   "version": "3.12.4"
  }
 },
 "nbformat": 4,
 "nbformat_minor": 5
}
