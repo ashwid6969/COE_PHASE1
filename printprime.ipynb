{
 "cells": [
  {
   "cell_type": "code",
   "execution_count": 2,
   "id": "d4679b28-7a2d-44de-94f6-e055b56096d5",
   "metadata": {},
   "outputs": [
    {
     "name": "stdout",
     "output_type": "stream",
     "text": [
      "2\n",
      "3\n",
      "5\n",
      "7\n",
      "11\n",
      "13\n",
      "17\n",
      "19\n",
      "23\n",
      "29\n",
      "31\n",
      "37\n",
      "41\n",
      "43\n",
      "47\n",
      "53\n",
      "59\n",
      "61\n",
      "67\n",
      "71\n",
      "73\n",
      "79\n",
      "83\n",
      "89\n",
      "97\n"
     ]
    }
   ],
   "source": [
    "num=100\n",
    "n=1\n",
    "while n<=100:\n",
    "    num=n\n",
    "    i=1\n",
    "    count=0\n",
    "    while i<=num//2:\n",
    "        if num%i==0:\n",
    "            count=count+1\n",
    "        i=i+1\n",
    "    if count==1:\n",
    "        print(num)\n",
    "    n=n+1"
   ]
  },
  {
   "cell_type": "code",
   "execution_count": null,
   "id": "650a791a-958f-4b71-8755-1dd28d070e9c",
   "metadata": {},
   "outputs": [],
   "source": [
    "#wap to print 1-10 numbers\n",
    "#wap to print 10-1 numbers\n",
    "#wap to print 1-n numbers\n",
    "#wap to accept start and stop value and print between numbers \n",
    "#wap to accept number and print the factors\n",
    "#wap to accept number and check it is prime or not\n",
    "#wap to accpet start and stop value and print numbers between them\n",
    "#wap to print reverse of given number\n",
    "#"
   ]
  },
  {
   "cell_type": "code",
   "execution_count": 5,
   "id": "62f3e9d1-9eb4-49a6-bab0-cc887ddcce14",
   "metadata": {},
   "outputs": [
    {
     "name": "stdout",
     "output_type": "stream",
     "text": [
      "10\n"
     ]
    }
   ],
   "source": [
    "str=\"hi hellooo\"\n",
    "print(len(str))"
   ]
  },
  {
   "cell_type": "code",
   "execution_count": 49,
   "id": "d33b468b-dfd7-4d2a-81d4-b5b694315e84",
   "metadata": {},
   "outputs": [
    {
     "name": "stdout",
     "output_type": "stream",
     "text": [
      "digits are : 4\n",
      "Alphabets are : 18\n",
      "Vowels are : 33\n",
      "spaces are : 0\n",
      "special characters are : 33\n"
     ]
    }
   ],
   "source": [
    "str=\"Hi hello 7656 this ^%$^# is Nagul\"\n",
    "digits=0\n",
    "alpha=0\n",
    "vowel=0\n",
    "space=0\n",
    "sp=0\n",
    "for i in str:\n",
    "    if i.isdigit():\n",
    "        digits=digits+1\n",
    "    elif i.isalpha():\n",
    "        alpha=alpha+1\n",
    "    if i==\"a\"or i==\"e\"or i==\"i\"or i==\"o\"or \"u\"or i==\"A\"or i==\"E\"or i==\"I\"or i==\"O\"or \"U\":\n",
    "        vowel=vowel+1\n",
    "    if str.isspace():\n",
    "        space=space+1\n",
    "    else:\n",
    "        sp=sp+1\n",
    "\n",
    "print(\"digits are :\",digits)\n",
    "print(\"Alphabets are :\",alpha)\n",
    "print(\"Vowels are :\",vowel)   \n",
    "print(\"spaces are :\",space)\n",
    "print(\"special characters are :\",sp)"
   ]
  },
  {
   "cell_type": "code",
   "execution_count": null,
   "id": "207eb6ec-919d-44cb-8eac-b6609d631505",
   "metadata": {},
   "outputs": [],
   "source": []
  }
 ],
 "metadata": {
  "kernelspec": {
   "display_name": "Python 3 (ipykernel)",
   "language": "python",
   "name": "python3"
  },
  "language_info": {
   "codemirror_mode": {
    "name": "ipython",
    "version": 3
   },
   "file_extension": ".py",
   "mimetype": "text/x-python",
   "name": "python",
   "nbconvert_exporter": "python",
   "pygments_lexer": "ipython3",
   "version": "3.12.4"
  }
 },
 "nbformat": 4,
 "nbformat_minor": 5
}
