{
 "cells": [
  {
   "cell_type": "code",
   "execution_count": 2,
   "id": "078b8df4-4b5c-4df9-8b84-16bf359096a2",
   "metadata": {},
   "outputs": [
    {
     "name": "stdout",
     "output_type": "stream",
     "text": [
      "not a prime\n"
     ]
    }
   ],
   "source": [
    "num=100\n",
    "i=1\n",
    "count=0\n",
    "while i<=num//2:\n",
    "    if num%i==0:\n",
    "        count=count+1\n",
    "    i=i+1\n",
    "if count==1:\n",
    "    print(\"prime\")\n",
    "else:\n",
    "    print('not a prime')"
   ]
  },
  {
   "cell_type": "code",
   "execution_count": null,
   "id": "042860d7-edd3-47fd-846a-5b73c856f7dc",
   "metadata": {},
   "outputs": [],
   "source": []
  }
 ],
 "metadata": {
  "kernelspec": {
   "display_name": "Python 3 (ipykernel)",
   "language": "python",
   "name": "python3"
  },
  "language_info": {
   "codemirror_mode": {
    "name": "ipython",
    "version": 3
   },
   "file_extension": ".py",
   "mimetype": "text/x-python",
   "name": "python",
   "nbconvert_exporter": "python",
   "pygments_lexer": "ipython3",
   "version": "3.12.4"
  }
 },
 "nbformat": 4,
 "nbformat_minor": 5
}
