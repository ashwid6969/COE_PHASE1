{
 "cells": [
  {
   "cell_type": "code",
   "execution_count": 4,
   "id": "b30b61a1-b2b8-462e-9cd4-3be9931eb4c5",
   "metadata": {},
   "outputs": [
    {
     "name": "stdout",
     "output_type": "stream",
     "text": [
      "5\n"
     ]
    }
   ],
   "source": [
    "num=12345\n",
    "count=0\n",
    "while num!=0:\n",
    "    num=num//10\n",
    "    count=count+1\n",
    "print(count)"
   ]
  },
  {
   "cell_type": "code",
   "execution_count": 10,
   "id": "ac9d18f6-a1f8-4c17-a3e7-ed209ec0a213",
   "metadata": {},
   "outputs": [
    {
     "name": "stdout",
     "output_type": "stream",
     "text": [
      "even : 2\n",
      "odd : 3\n"
     ]
    }
   ],
   "source": [
    "num=12345\n",
    "rem=0\n",
    "even=0\n",
    "odd=0\n",
    "while num!=0:\n",
    "    rem=num%10\n",
    "    if rem%2==0:\n",
    "        even=even+1\n",
    "    else:\n",
    "        odd=odd+1\n",
    "    num=num//10\n",
    "print('even :',even)\n",
    "print('odd :',odd)"
   ]
  },
  {
   "cell_type": "code",
   "execution_count": 14,
   "id": "dcb59164-5375-4294-a254-bab94ce008bb",
   "metadata": {},
   "outputs": [
    {
     "name": "stdout",
     "output_type": "stream",
     "text": [
      "even : 16\n",
      "odd : 18\n"
     ]
    }
   ],
   "source": [
    "num=783781\n",
    "rem=0\n",
    "even=0\n",
    "odd=0\n",
    "while num!=0:\n",
    "    rem=num%10\n",
    "    if rem%2==0:\n",
    "        even=even+rem\n",
    "    else:\n",
    "        odd=odd+rem\n",
    "    num=num//10\n",
    "print('even :',even)\n",
    "print('odd :',odd)"
   ]
  },
  {
   "cell_type": "code",
   "execution_count": null,
   "id": "dae2f1ce-a881-4908-9880-d446d9418156",
   "metadata": {},
   "outputs": [],
   "source": []
  }
 ],
 "metadata": {
  "kernelspec": {
   "display_name": "Python 3 (ipykernel)",
   "language": "python",
   "name": "python3"
  },
  "language_info": {
   "codemirror_mode": {
    "name": "ipython",
    "version": 3
   },
   "file_extension": ".py",
   "mimetype": "text/x-python",
   "name": "python",
   "nbconvert_exporter": "python",
   "pygments_lexer": "ipython3",
   "version": "3.12.4"
  }
 },
 "nbformat": 4,
 "nbformat_minor": 5
}
